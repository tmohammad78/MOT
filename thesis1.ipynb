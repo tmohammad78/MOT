{
 "cells": [
  {
   "cell_type": "code",
   "execution_count": 21,
   "id": "293048d8-00cd-4d29-9511-0e096a8c3db6",
   "metadata": {},
   "outputs": [
    {
     "name": "stdout",
     "output_type": "stream",
     "text": [
      "Requirement already satisfied: scipy in ./path/to/venv/lib/python3.12/site-packages (1.14.1)\n",
      "Requirement already satisfied: numpy<2.3,>=1.23.5 in ./path/to/venv/lib/python3.12/site-packages (from scipy) (2.1.0)\n",
      "Note: you may need to restart the kernel to use updated packages.\n"
     ]
    }
   ],
   "source": [
    "pip install scipy"
   ]
  },
  {
   "cell_type": "code",
   "execution_count": 22,
   "id": "194a50c3-86a2-4280-ab77-154015068047",
   "metadata": {},
   "outputs": [
    {
     "name": "stdout",
     "output_type": "stream",
     "text": [
      "Collecting opencv-python\n",
      "  Downloading opencv_python-4.10.0.84-cp37-abi3-macosx_12_0_x86_64.whl.metadata (20 kB)\n",
      "Requirement already satisfied: numpy>=1.21.2 in ./path/to/venv/lib/python3.12/site-packages (from opencv-python) (2.1.0)\n",
      "Downloading opencv_python-4.10.0.84-cp37-abi3-macosx_12_0_x86_64.whl (56.5 MB)\n",
      "\u001b[2K   \u001b[38;2;114;156;31m━━━━━━━━━━━━━━━━━━━━━━━━━━━━━━━━━━━━━━━━\u001b[0m \u001b[32m56.5/56.5 MB\u001b[0m \u001b[31m2.3 MB/s\u001b[0m eta \u001b[36m0:00:00\u001b[0mm eta \u001b[36m0:00:01\u001b[0m[36m0:00:01\u001b[0m\n",
      "\u001b[?25hInstalling collected packages: opencv-python\n",
      "Successfully installed opencv-python-4.10.0.84\n",
      "Note: you may need to restart the kernel to use updated packages.\n"
     ]
    }
   ],
   "source": [
    "pip install opencv-python"
   ]
  },
  {
   "cell_type": "code",
   "execution_count": 45,
   "id": "a5da40d9-05c0-45f2-acee-86a77a83ebaf",
   "metadata": {},
   "outputs": [
    {
     "name": "stderr",
     "output_type": "stream",
     "text": [
      "3118.81s - pydevd: Sending message related to process being replaced timed-out after 5 seconds\n"
     ]
    },
    {
     "name": "stdout",
     "output_type": "stream",
     "text": [
      "Requirement already satisfied: opencv-python-headless in ./path/to/venv/lib/python3.12/site-packages (4.10.0.84)\n",
      "Requirement already satisfied: numpy>=1.21.2 in ./path/to/venv/lib/python3.12/site-packages (from opencv-python-headless) (2.1.0)\n",
      "Note: you may need to restart the kernel to use updated packages.\n"
     ]
    }
   ],
   "source": [
    "pip install opencv-python-headless"
   ]
  },
  {
   "cell_type": "code",
   "execution_count": 46,
   "id": "5d212a6e-4d19-4dd4-9a91-7114ec0261cc",
   "metadata": {},
   "outputs": [],
   "source": [
    "import scipy.io\n",
    "import cv2"
   ]
  },
  {
   "cell_type": "code",
   "execution_count": 4,
   "id": "270a16b7-d9f6-489c-a54c-fe3f88e999a3",
   "metadata": {},
   "outputs": [],
   "source": [
    "mat_data = scipy.io.loadmat('./40.mat')"
   ]
  },
  {
   "cell_type": "code",
   "execution_count": 12,
   "id": "5dd2b578-c8b6-4cc2-9f35-63ffb8323a23",
   "metadata": {},
   "outputs": [
    {
     "data": {
      "text/plain": [
       "(40, 2)"
      ]
     },
     "execution_count": 12,
     "metadata": {},
     "output_type": "execute_result"
    }
   ],
   "source": [
    "data = mat_data['extractedData']\n",
    "data.shape"
   ]
  },
  {
   "cell_type": "code",
   "execution_count": 13,
   "id": "148daa3e-b7bf-4222-a672-22bab6beaff3",
   "metadata": {},
   "outputs": [],
   "source": [
    "x_points = data[0][0]  # First column for x points\n",
    "y_points = data[0][1]"
   ]
  },
  {
   "cell_type": "code",
   "execution_count": 15,
   "id": "95cc1076-1e69-4d05-8363-e55a5ddf554e",
   "metadata": {},
   "outputs": [
    {
     "data": {
      "text/plain": [
       "array([[1017.29998779],\n",
       "       [1017.09997559],\n",
       "       [1017.09997559],\n",
       "       ...,\n",
       "       [1179.40002441],\n",
       "       [1179.69995117],\n",
       "       [1179.69995117]])"
      ]
     },
     "execution_count": 15,
     "metadata": {},
     "output_type": "execute_result"
    }
   ],
   "source": [
    "x_points"
   ]
  },
  {
   "cell_type": "code",
   "execution_count": null,
   "id": "7c020280-a9ed-4f60-96fd-3cfbea2eb540",
   "metadata": {},
   "outputs": [],
   "source": []
  }
 ],
 "metadata": {
  "kernelspec": {
   "display_name": "Python 3 (ipykernel)",
   "language": "python",
   "name": "python3"
  },
  "language_info": {
   "codemirror_mode": {
    "name": "ipython",
    "version": 3
   },
   "file_extension": ".py",
   "mimetype": "text/x-python",
   "name": "python",
   "nbconvert_exporter": "python",
   "pygments_lexer": "ipython3",
   "version": "3.12.4"
  }
 },
 "nbformat": 4,
 "nbformat_minor": 5
}
