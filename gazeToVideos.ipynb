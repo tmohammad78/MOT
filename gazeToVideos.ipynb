{
 "cells": [
  {
   "cell_type": "code",
   "execution_count": 170,
   "id": "8433b1f1-27bc-4e1d-99eb-70ae45e39afd",
   "metadata": {},
   "outputs": [
    {
     "name": "stdout",
     "output_type": "stream",
     "text": [
      "Requirement already satisfied: opencv-python-headless in ./path/to/venv/lib/python3.12/site-packages (4.10.0.84)\n",
      "Requirement already satisfied: numpy>=1.21.2 in ./path/to/venv/lib/python3.12/site-packages (from opencv-python-headless) (2.1.0)\n",
      "Requirement already satisfied: opencv-python in ./path/to/venv/lib/python3.12/site-packages (4.10.0.84)\n",
      "Requirement already satisfied: numpy>=1.21.2 in ./path/to/venv/lib/python3.12/site-packages (from opencv-python) (2.1.0)\n",
      "Requirement already satisfied: scipy in ./path/to/venv/lib/python3.12/site-packages (1.14.1)\n",
      "Requirement already satisfied: numpy<2.3,>=1.23.5 in ./path/to/venv/lib/python3.12/site-packages (from scipy) (2.1.0)\n",
      "Requirement already satisfied: pandas in ./path/to/venv/lib/python3.12/site-packages (2.2.2)\n",
      "Requirement already satisfied: numpy>=1.26.0 in ./path/to/venv/lib/python3.12/site-packages (from pandas) (2.1.0)\n",
      "Requirement already satisfied: python-dateutil>=2.8.2 in ./path/to/venv/lib/python3.12/site-packages (from pandas) (2.9.0.post0)\n",
      "Requirement already satisfied: pytz>=2020.1 in ./path/to/venv/lib/python3.12/site-packages (from pandas) (2024.1)\n",
      "Requirement already satisfied: tzdata>=2022.7 in ./path/to/venv/lib/python3.12/site-packages (from pandas) (2024.1)\n",
      "Requirement already satisfied: six>=1.5 in ./path/to/venv/lib/python3.12/site-packages (from python-dateutil>=2.8.2->pandas) (1.16.0)\n"
     ]
    }
   ],
   "source": [
    "!pip install opencv-python-headless\n",
    "!pip install opencv-python\n",
    "!pip install scipy\n",
    "!pip3 install pandas"
   ]
  },
  {
   "cell_type": "code",
   "execution_count": 311,
   "id": "ca2a70b3-2cbc-4a55-8723-9a06aa117b9f",
   "metadata": {},
   "outputs": [],
   "source": [
    "import scipy.io\n",
    "import cv2\n",
    "import pandas as pd\n",
    "import os\n",
    "import random \n",
    "import math"
   ]
  },
  {
   "cell_type": "code",
   "execution_count": 312,
   "id": "d7bd4c32-cd9b-4559-8c30-9bcf803c3418",
   "metadata": {},
   "outputs": [],
   "source": []
  },
  {
   "cell_type": "code",
   "execution_count": 352,
   "id": "3a68e4d1-d5c0-435c-ad0d-f14c7efdd943",
   "metadata": {},
   "outputs": [],
   "source": [
    "def parseVideoName(video_name):\n",
    "    video_name = video_name.replace('.avi', '')\n",
    "    first_part,second_part = video_name.split(',')\n",
    "    video_type, num_targets = first_part.rsplit('_', 1)\n",
    "    videos_info = second_part.split('_')\n",
    "    \n",
    "    parsed_data = {\n",
    "        'video_name': video_name,\n",
    "        'target_name': second_part,\n",
    "        'video_type': video_type,\n",
    "        'num_targets': int(num_targets),\n",
    "        'first_video': int(videos_info[0]),\n",
    "        'second_video': int(videos_info[1]),\n",
    "        'first_start_frame': int(videos_info[2]),\n",
    "        'second_start_frame': int(videos_info[3]),\n",
    "        'first_rotation': float(videos_info[4]),\n",
    "        'second_rotation': float(videos_info[5])\n",
    "    }\n",
    "    \n",
    "    return parsed_data\n",
    "    \n",
    "def generateRandomColor():\n",
    "    return (random.randint(0, 255), random.randint(0, 255), random.randint(0, 255))\n",
    "\n",
    "def processTrialsVideos(file_path):\n",
    "    df = pd.read_csv(file_path)\n",
    "    parsed_rows = []\n",
    "    \n",
    "    for index, row in df.iterrows():\n",
    "        video_name = row['videoName']\n",
    "        parsed_data = parseVideoName(video_name)\n",
    "        parsed_rows.append(parsed_data)\n",
    "    \n",
    "    return pd.DataFrame(parsed_rows)\n",
    "    \n",
    "def loadMatFile():\n",
    "    root_folder = 'GazeMat'\n",
    "    test_subs = ['sub11', 'sub21', 'sub31', 'sub41', 'sub51']\n",
    "\n",
    "    data = {}\n",
    "    \n",
    "    for sub_dir in os.listdir(root_folder):\n",
    "        if sub_dir in test_subs:\n",
    "            mat_file_path = os.path.join(root_folder, sub_dir, '40.mat')\n",
    "            if os.path.exists(mat_file_path):\n",
    "                mat_data = scipy.io.loadmat(mat_file_path)\n",
    "                data[sub_dir] = mat_data[\"extractedData\"]\n",
    "            else:\n",
    "                print(f\"{mat_file_path} does not exist.\")\n",
    "    return data\n",
    "    print(\"Data loaded successfully.\")\n",
    "\n",
    "def generateSubjectName(subIndex):\n",
    "    number_part = subIndex[3:]\n",
    "    modified_number = number_part[:-1] if len(number_part) > 1 else '0'\n",
    "    return f'sub{modified_number}'\n",
    "\n",
    "def getVideoInfo(video):\n",
    "    fps = video.get(cv2.CAP_PROP_FPS)\n",
    "    width = int(video.get(cv2.CAP_PROP_FRAME_WIDTH))\n",
    "    height = int(video.get(cv2.CAP_PROP_FRAME_HEIGHT))\n",
    "    # num_frames = int(mainVideo.get(cv2.CAP_PROP_FRAME_COUNT))\n",
    "    return fps, width, height \n",
    "\n",
    "def createOutputVideo(video,name):\n",
    "    output_gaze_videos = 'gazeOutputVideo'\n",
    "    os.makedirs(output_gaze_videos, exist_ok=True)\n",
    "    fps, width, height = getVideoInfo(video)\n",
    "    \n",
    "    output_gaze_videos_path = os.path.join(output_gaze_videos, name + '.avi')\n",
    "    output_video = cv2.VideoWriter(output_gaze_videos_path, cv2.VideoWriter_fourcc(*'XVID'), fps, (width, height))\n",
    "    return output_video\n",
    "\n",
    "def getSubjectColor(subject):\n",
    "    if subject not in subject_colors:\n",
    "        subject_colors[subject] = generateRandomColor()\n",
    "    return subject_colors[subIndex]\n",
    "\n",
    "def mapPointsOnFrame(frame):\n",
    "    return round(frame * (7798 / 110))\n",
    "\n",
    "def openVideo(video):\n",
    "    trialVideo = cv2.VideoCapture(os.path.join('./videos', video.video_type, video.target_name + '.avi'))\n",
    "    \n",
    "    if not trialVideo.isOpened():\n",
    "        raise ValueError(f\"Unable to open video file: {os.path.join('./videos', video.video_type, video.target_name + '.avi')}\")\n",
    "    return trialVideo\n",
    "\n",
    "def generateXPoints(x):\n",
    "    scale_x = 660 / 1920\n",
    "    return int(x * scale_x)\n",
    "\n",
    "def generateYPoints(y):\n",
    "    scale_y = 660 / 1080\n",
    "    return int(y * scale_y)"
   ]
  },
  {
   "cell_type": "code",
   "execution_count": null,
   "id": "ecdbaeab-45ec-4b58-a5e8-54955eabf9d4",
   "metadata": {},
   "outputs": [],
   "source": []
  },
  {
   "cell_type": "code",
   "execution_count": 353,
   "id": "46dfe25f-d485-46ca-a290-a0b513dbd2ac",
   "metadata": {},
   "outputs": [
    {
     "name": "stdout",
     "output_type": "stream",
     "text": [
      "False\n"
     ]
    },
    {
     "data": {
      "text/plain": [
       "(np.float64(876.2000122070312),\n",
       " array([[296.5       ],\n",
       "        [296.1000061 ],\n",
       "        [295.6000061 ],\n",
       "        ...,\n",
       "        [465.29998779],\n",
       "        [466.6000061 ],\n",
       "        [467.20001221]]))"
      ]
     },
     "execution_count": 353,
     "metadata": {},
     "output_type": "execute_result"
    }
   ],
   "source": [
    "### to Check data \n",
    "\n",
    "for index in subjects:\n",
    "    x_points = subjects[index][0]  # First column for x points\n",
    "    y_points = subjects[index][1]\n",
    "print(check_all_elements_type(subjects['sub11'][1][0]))\n",
    "xc = subjects['sub11'][0][0]\n",
    "yc = subjects['sub11'][0][1]\n",
    "\n",
    "xc = subjects['sub11'][1][0][3445][0]\n",
    "yc = subjects['sub11'][1][1]\n",
    "\n",
    "xc, yc"
   ]
  },
  {
   "cell_type": "code",
   "execution_count": 354,
   "id": "01162bda-781f-46c0-b1db-4b4db6ecc6a5",
   "metadata": {},
   "outputs": [],
   "source": [
    "subjects = loadMatFile()\n",
    "subject_colors = {}"
   ]
  },
  {
   "cell_type": "code",
   "execution_count": 355,
   "id": "e968a662-9ac5-426c-b2f1-781abee96de5",
   "metadata": {},
   "outputs": [],
   "source": [
    "csvSample = processTrialsVideos('./sub21.csv')"
   ]
  },
  {
   "cell_type": "code",
   "execution_count": null,
   "id": "09679c87-2ffa-4e82-ba2c-45fd8a4a3e31",
   "metadata": {},
   "outputs": [],
   "source": []
  },
  {
   "cell_type": "code",
   "execution_count": 356,
   "id": "304ccf76-9cfd-44ad-9d62-7cd66b42a4de",
   "metadata": {},
   "outputs": [
    {
     "name": "stdout",
     "output_type": "stream",
     "text": [
      "An error occurred while processing video at index 39: index 40 is out of bounds for axis 0 with size 40\n"
     ]
    }
   ],
   "source": [
    "videoList = []\n",
    "trialNumber  = 1\n",
    "\n",
    "for index, video in csvSample.iterrows():\n",
    "    try:\n",
    "        \n",
    "        open_video = openVideo(video)\n",
    "        output_video = createOutputVideo(open_video,video.video_name)\n",
    "        \n",
    "        frame_idx = 0\n",
    "\n",
    "        while True:\n",
    "            ret, frame = open_video.read()\n",
    "            if not ret:\n",
    "                break  \n",
    "            \n",
    "            for subIndex in subjects:\n",
    "                x_points = subjects[subIndex][trialNumber][0]\n",
    "                y_points = subjects[subIndex][trialNumber][1]\n",
    "                point_add = mapPointsOnFrame(frame_idx)\n",
    "                    \n",
    "                if 0 <= point_add < len(x_points):\n",
    "                    x = x_points[point_add][0]\n",
    "                    y = y_points[point_add][0] \n",
    "\n",
    "                    if math.isnan(x):\n",
    "                        if previous_x is not None:\n",
    "                            x = previous_x\n",
    "                        else:\n",
    "                            print(f\"NaN detected for x at frame {frame_idx}, but no previous value to replace. Skipping.\")\n",
    "                            continue\n",
    "\n",
    "                    if math.isnan(y):\n",
    "                        if previous_y is not None:\n",
    "                            y = previous_y\n",
    "                        else:\n",
    "                            print(f\"NaN detected for y at frame {frame_idx}, but no previous value to replace. Skipping.\")\n",
    "                            continue\n",
    "            \n",
    "                    # Store the current valid value as previous\n",
    "                    previous_x = x\n",
    "                    previous_y = y\n",
    "                    \n",
    "                    new_x = generateXPoints(x)\n",
    "                    new_y = generateYPoints(y)\n",
    "                    color = getSubjectColor(subIndex)\n",
    "                    \n",
    "                    cv2.circle(frame, (new_x, new_y), 5, color, 3) \n",
    "\n",
    "                    cv2.putText(frame, generateSubjectName(subIndex), (new_x + 5, new_y - 5),\n",
    "                                cv2.FONT_HERSHEY_SIMPLEX, 0.5, color, 1, cv2.LINE_AA)\n",
    "\n",
    "            resized_frame = cv2.resize(frame, (660, 660))\n",
    "            output_video.write(resized_frame)\n",
    "            \n",
    "            frame_idx += 1\n",
    "        \n",
    "        trialNumber += 1\n",
    "        \n",
    "    except Exception as e:\n",
    "        print(f\"An error occurred while processing video at index {index}: {e}\")\n",
    "\n",
    "    finally:\n",
    "        # Release everything\n",
    "        if 'open_video' in locals() and open_video.isOpened():\n",
    "            open_video.release()\n",
    "        if 'output_video' in locals():\n",
    "            output_video.release()\n",
    "        cv2.destroyAllWindows()\n",
    "    "
   ]
  },
  {
   "cell_type": "code",
   "execution_count": null,
   "id": "1ec1f6bd-8399-4c9e-9bf3-b04a323cd35f",
   "metadata": {},
   "outputs": [],
   "source": []
  },
  {
   "cell_type": "code",
   "execution_count": null,
   "id": "949aad78-8ed9-4daf-8bb5-2d14431a801e",
   "metadata": {},
   "outputs": [],
   "source": []
  },
  {
   "cell_type": "code",
   "execution_count": null,
   "id": "671a36ee-b115-4498-b82c-278fd91aeb40",
   "metadata": {},
   "outputs": [],
   "source": []
  },
  {
   "cell_type": "code",
   "execution_count": null,
   "id": "38bd89ac-1573-408e-98e4-f64d3e8bd6db",
   "metadata": {},
   "outputs": [],
   "source": []
  }
 ],
 "metadata": {
  "kernelspec": {
   "display_name": "Python 3 (ipykernel)",
   "language": "python",
   "name": "python3"
  },
  "language_info": {
   "codemirror_mode": {
    "name": "ipython",
    "version": 3
   },
   "file_extension": ".py",
   "mimetype": "text/x-python",
   "name": "python",
   "nbconvert_exporter": "python",
   "pygments_lexer": "ipython3",
   "version": "3.12.4"
  }
 },
 "nbformat": 4,
 "nbformat_minor": 5
}
